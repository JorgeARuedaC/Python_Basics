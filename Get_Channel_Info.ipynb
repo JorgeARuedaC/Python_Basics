{
 "cells": [
  {
   "cell_type": "code",
   "execution_count": 1,
   "metadata": {},
   "outputs": [],
   "source": [
    "api_key = 'rAIzaSyBDzBMdFPMRDRi0aQeDJdlwLnQNk63EXIw'"
   ]
  },
  {
   "cell_type": "code",
   "execution_count": 2,
   "metadata": {},
   "outputs": [],
   "source": [
    "from apiclient.discovery import build"
   ]
  },
  {
   "cell_type": "code",
   "execution_count": 3,
   "metadata": {},
   "outputs": [],
   "source": [
    "youtube = build('youtube', 'v3', developerKey=api_key)"
   ]
  },
  {
   "cell_type": "code",
   "execution_count": null,
   "metadata": {},
   "outputs": [],
   "source": [
    "req = youtube.search().list(\n",
    "    q=\"sports,channel\",\n",
    "    part=\"snippet\",\n",
    "    type=\"channel\",\n",
    "    maxResults=20,\n",
    "    regionCode = 'US',\n",
    "    order = 'viewCount'\n",
    "  )"
   ]
  },
  {
   "cell_type": "code",
   "execution_count": 19,
   "metadata": {},
   "outputs": [],
   "source": [
    "channels_ids = [\n",
    "'UCWJ2lWNubArHWmf3FIHbfcQ',\n",
    "'UCRijo3ddMTht_IHyNSNXpNQ',\n",
    "'UCoyaxd5LQSuP4ChkxK0pnZQ',\n",
    "'UCEl0qh9X3kuL1RdFHng497Q',\n",
    "'UCLXzq85ijg2LwJWFrz4pkmw',\n",
    "'UCPpddbTbOr_uWWQT9Pw1rbA',\n",
    "'UCFPoJNd0d4k1H9A6UOlikcg',\n",
    "'UC4i_9WvfPRTuRWEaWyfKuFw',\n",
    "'UCqZQlzSHbVJrwrn5XvzrzcA',\n",
    "'UCPahzXZvF8f5bRJ5TNvZS8w',\n",
    "'UC22Sr8bNYjAKqxLr-snMGnA',\n",
    "'UCwNqHDsnBCKT-olwJwIFyfg',\n",
    "'UCWLo4r-9_x4GCJCFShNFq0A',\n",
    "'UCZFhj_r-MjoPCFVUo3E1ZRg',\n",
    "'UCifWD4FBa4eaKK7HLF0PlTA',\n",
    "'UC0KT03NPnN-j4HGzetW9Lpw',\n",
    "'UCNAf1k0yIjyGu3k9BwAg3lg',\n",
    "'UCzrdtk6p4SaakMz2ZmOkCQQ',\n",
    "'UC2MGuhIaOP6YLpUx106kTQw',\n",
    "'UCVXCo0W9pk2dDkEBNLhTt7A']"
   ]
  },
  {
   "cell_type": "code",
   "execution_count": 21,
   "metadata": {},
   "outputs": [
    {
     "data": {
      "text/plain": [
       "['UCWJ2lWNubArHWmf3FIHbfcQ', 'UCRijo3ddMTht_IHyNSNXpNQ']"
      ]
     },
     "execution_count": 21,
     "metadata": {},
     "output_type": "execute_result"
    }
   ],
   "source": [
    "channels_ids[:2]"
   ]
  },
  {
   "cell_type": "code",
   "execution_count": 28,
   "metadata": {},
   "outputs": [],
   "source": [
    "channel_list = \"\"\n",
    "i = 0\n",
    "for channel in channels_ids:\n",
    "    if i == 0:\n",
    "        channel_list = \"'\" + channel_list + channel\n",
    "    else:\n",
    "        channel_list = channel_list + ',' + channel\n",
    "    i =+ 1\n",
    "channel_list = channel_list + \"'\""
   ]
  },
  {
   "cell_type": "code",
   "execution_count": 29,
   "metadata": {},
   "outputs": [
    {
     "name": "stdout",
     "output_type": "stream",
     "text": [
      "'UCWJ2lWNubArHWmf3FIHbfcQ,UCRijo3ddMTht_IHyNSNXpNQ,UCoyaxd5LQSuP4ChkxK0pnZQ,UCEl0qh9X3kuL1RdFHng497Q,UCLXzq85ijg2LwJWFrz4pkmw,UCPpddbTbOr_uWWQT9Pw1rbA,UCFPoJNd0d4k1H9A6UOlikcg,UC4i_9WvfPRTuRWEaWyfKuFw,UCqZQlzSHbVJrwrn5XvzrzcA,UCPahzXZvF8f5bRJ5TNvZS8w,UC22Sr8bNYjAKqxLr-snMGnA,UCwNqHDsnBCKT-olwJwIFyfg,UCWLo4r-9_x4GCJCFShNFq0A,UCZFhj_r-MjoPCFVUo3E1ZRg,UCifWD4FBa4eaKK7HLF0PlTA,UC0KT03NPnN-j4HGzetW9Lpw,UCNAf1k0yIjyGu3k9BwAg3lg,UCzrdtk6p4SaakMz2ZmOkCQQ,UC2MGuhIaOP6YLpUx106kTQw,UCVXCo0W9pk2dDkEBNLhTt7A'\n"
     ]
    }
   ],
   "source": [
    "print(channel_list)"
   ]
  },
  {
   "cell_type": "code",
   "execution_count": 30,
   "metadata": {},
   "outputs": [],
   "source": [
    "req = youtube.channels().list(id=channel_list, part=\"statistics,contentDetails\",)"
   ]
  },
  {
   "cell_type": "code",
   "execution_count": 31,
   "metadata": {},
   "outputs": [],
   "source": [
    "res = req.execute()"
   ]
  },
  {
   "cell_type": "code",
   "execution_count": 32,
   "metadata": {},
   "outputs": [
    {
     "data": {
      "text/plain": [
       "{'kind': 'youtube#channelListResponse',\n",
       " 'etag': '\"8jEFfXBrqiSrcF6Ee7MQuz8XuAM/aYjyIMULFuyf6NM7gz4QQ60ssXs\"',\n",
       " 'nextPageToken': 'CAUQAA',\n",
       " 'pageInfo': {'totalResults': 19, 'resultsPerPage': 19},\n",
       " 'items': [{'kind': 'youtube#channel',\n",
       "   'etag': '\"8jEFfXBrqiSrcF6Ee7MQuz8XuAM/ECdWockrn6I3114l_QkyeC7igKA\"',\n",
       "   'id': 'UCLXzq85ijg2LwJWFrz4pkmw',\n",
       "   'contentDetails': {'relatedPlaylists': {'likes': 'LLLXzq85ijg2LwJWFrz4pkmw',\n",
       "     'uploads': 'UULXzq85ijg2LwJWFrz4pkmw',\n",
       "     'watchHistory': 'HL',\n",
       "     'watchLater': 'WL'}},\n",
       "   'statistics': {'viewCount': '893308902',\n",
       "    'commentCount': '0',\n",
       "    'subscriberCount': '1382285',\n",
       "    'hiddenSubscriberCount': False,\n",
       "    'videoCount': '3151'}},\n",
       "  {'kind': 'youtube#channel',\n",
       "   'etag': '\"8jEFfXBrqiSrcF6Ee7MQuz8XuAM/N5RG8rBVD_L-l1qW3z0P1CLC9Ds\"',\n",
       "   'id': 'UCoyaxd5LQSuP4ChkxK0pnZQ',\n",
       "   'contentDetails': {'relatedPlaylists': {'uploads': 'UUoyaxd5LQSuP4ChkxK0pnZQ',\n",
       "     'watchHistory': 'HL',\n",
       "     'watchLater': 'WL'}},\n",
       "   'statistics': {'viewCount': '699900009',\n",
       "    'commentCount': '0',\n",
       "    'subscriberCount': '3845206',\n",
       "    'hiddenSubscriberCount': False,\n",
       "    'videoCount': '756'}},\n",
       "  {'kind': 'youtube#channel',\n",
       "   'etag': '\"8jEFfXBrqiSrcF6Ee7MQuz8XuAM/HvkmxDhME-vuB8AQEJ-Yhhh4NLs\"',\n",
       "   'id': 'UCVXCo0W9pk2dDkEBNLhTt7A',\n",
       "   'contentDetails': {'relatedPlaylists': {'uploads': 'UUVXCo0W9pk2dDkEBNLhTt7A',\n",
       "     'watchHistory': 'HL',\n",
       "     'watchLater': 'WL'}},\n",
       "   'statistics': {'viewCount': '792775665',\n",
       "    'commentCount': '0',\n",
       "    'subscriberCount': '3746622',\n",
       "    'hiddenSubscriberCount': False,\n",
       "    'videoCount': '10554'}},\n",
       "  {'kind': 'youtube#channel',\n",
       "   'etag': '\"8jEFfXBrqiSrcF6Ee7MQuz8XuAM/vkFwm8ey3k3WbEffNOAei-K5PKo\"',\n",
       "   'id': 'UCZFhj_r-MjoPCFVUo3E1ZRg',\n",
       "   'contentDetails': {'relatedPlaylists': {'uploads': 'UUZFhj_r-MjoPCFVUo3E1ZRg',\n",
       "     'watchHistory': 'HL',\n",
       "     'watchLater': 'WL'}},\n",
       "   'statistics': {'viewCount': '602310351',\n",
       "    'commentCount': '0',\n",
       "    'subscriberCount': '1649116',\n",
       "    'hiddenSubscriberCount': False,\n",
       "    'videoCount': '1102'}},\n",
       "  {'kind': 'youtube#channel',\n",
       "   'etag': '\"8jEFfXBrqiSrcF6Ee7MQuz8XuAM/U5M9vpVs5GMWuSbYI_RSgB39bq8\"',\n",
       "   'id': 'UCifWD4FBa4eaKK7HLF0PlTA',\n",
       "   'contentDetails': {'relatedPlaylists': {'uploads': 'UUifWD4FBa4eaKK7HLF0PlTA',\n",
       "     'watchHistory': 'HL',\n",
       "     'watchLater': 'WL'}},\n",
       "   'statistics': {'viewCount': '165226225',\n",
       "    'commentCount': '0',\n",
       "    'subscriberCount': '339151',\n",
       "    'hiddenSubscriberCount': False,\n",
       "    'videoCount': '3090'}},\n",
       "  {'kind': 'youtube#channel',\n",
       "   'etag': '\"8jEFfXBrqiSrcF6Ee7MQuz8XuAM/ufZ1yBtWkCsfN4pxdThJzQkoQsI\"',\n",
       "   'id': 'UCqZQlzSHbVJrwrn5XvzrzcA',\n",
       "   'contentDetails': {'relatedPlaylists': {'uploads': 'UUqZQlzSHbVJrwrn5XvzrzcA',\n",
       "     'watchHistory': 'HL',\n",
       "     'watchLater': 'WL'}},\n",
       "   'statistics': {'viewCount': '291790795',\n",
       "    'commentCount': '0',\n",
       "    'subscriberCount': '904148',\n",
       "    'hiddenSubscriberCount': False,\n",
       "    'videoCount': '7294'}},\n",
       "  {'kind': 'youtube#channel',\n",
       "   'etag': '\"8jEFfXBrqiSrcF6Ee7MQuz8XuAM/IKw6XXhc5tN1rmQ45KUHlSFLt30\"',\n",
       "   'id': 'UCNAf1k0yIjyGu3k9BwAg3lg',\n",
       "   'contentDetails': {'relatedPlaylists': {'uploads': 'UUNAf1k0yIjyGu3k9BwAg3lg',\n",
       "     'watchHistory': 'HL',\n",
       "     'watchLater': 'WL'}},\n",
       "   'statistics': {'viewCount': '389318598',\n",
       "    'commentCount': '0',\n",
       "    'subscriberCount': '1382906',\n",
       "    'hiddenSubscriberCount': False,\n",
       "    'videoCount': '1551'}},\n",
       "  {'kind': 'youtube#channel',\n",
       "   'etag': '\"8jEFfXBrqiSrcF6Ee7MQuz8XuAM/DfEcmRyU5sW83yG3XU12sD7W-g4\"',\n",
       "   'id': 'UC4i_9WvfPRTuRWEaWyfKuFw',\n",
       "   'contentDetails': {'relatedPlaylists': {'likes': 'LL4i_9WvfPRTuRWEaWyfKuFw',\n",
       "     'uploads': 'UU4i_9WvfPRTuRWEaWyfKuFw',\n",
       "     'watchHistory': 'HL',\n",
       "     'watchLater': 'WL'}},\n",
       "   'statistics': {'viewCount': '830369166',\n",
       "    'commentCount': '0',\n",
       "    'subscriberCount': '2298440',\n",
       "    'hiddenSubscriberCount': False,\n",
       "    'videoCount': '4296'}},\n",
       "  {'kind': 'youtube#channel',\n",
       "   'etag': '\"8jEFfXBrqiSrcF6Ee7MQuz8XuAM/VMuCdH1pHX43K-WaicOr7-G3r04\"',\n",
       "   'id': 'UCEl0qh9X3kuL1RdFHng497Q',\n",
       "   'contentDetails': {'relatedPlaylists': {'uploads': 'UUEl0qh9X3kuL1RdFHng497Q',\n",
       "     'watchHistory': 'HL',\n",
       "     'watchLater': 'WL'}},\n",
       "   'statistics': {'viewCount': '0',\n",
       "    'commentCount': '0',\n",
       "    'subscriberCount': '146404',\n",
       "    'hiddenSubscriberCount': False,\n",
       "    'videoCount': '0'}},\n",
       "  {'kind': 'youtube#channel',\n",
       "   'etag': '\"8jEFfXBrqiSrcF6Ee7MQuz8XuAM/mZ7s4kiYugpEJEkad4z4mQfZYlo\"',\n",
       "   'id': 'UCwNqHDsnBCKT-olwJwIFyfg',\n",
       "   'contentDetails': {'relatedPlaylists': {'likes': 'LLwNqHDsnBCKT-olwJwIFyfg',\n",
       "     'uploads': 'UUwNqHDsnBCKT-olwJwIFyfg',\n",
       "     'watchHistory': 'HL',\n",
       "     'watchLater': 'WL'}},\n",
       "   'statistics': {'viewCount': '448082943',\n",
       "    'commentCount': '0',\n",
       "    'subscriberCount': '652942',\n",
       "    'hiddenSubscriberCount': False,\n",
       "    'videoCount': '4433'}},\n",
       "  {'kind': 'youtube#channel',\n",
       "   'etag': '\"8jEFfXBrqiSrcF6Ee7MQuz8XuAM/_1FKJM50fbjIq4ml_9qfKv6qIn8\"',\n",
       "   'id': 'UCPpddbTbOr_uWWQT9Pw1rbA',\n",
       "   'contentDetails': {'relatedPlaylists': {'uploads': 'UUPpddbTbOr_uWWQT9Pw1rbA',\n",
       "     'watchHistory': 'HL',\n",
       "     'watchLater': 'WL'}},\n",
       "   'statistics': {'viewCount': '236841065',\n",
       "    'commentCount': '0',\n",
       "    'subscriberCount': '682349',\n",
       "    'hiddenSubscriberCount': False,\n",
       "    'videoCount': '2604'}},\n",
       "  {'kind': 'youtube#channel',\n",
       "   'etag': '\"8jEFfXBrqiSrcF6Ee7MQuz8XuAM/ZpIdTUdV1jm1hYZECJnS-THFphQ\"',\n",
       "   'id': 'UCWLo4r-9_x4GCJCFShNFq0A',\n",
       "   'contentDetails': {'relatedPlaylists': {'uploads': 'UUWLo4r-9_x4GCJCFShNFq0A',\n",
       "     'watchHistory': 'HL',\n",
       "     'watchLater': 'WL'}},\n",
       "   'statistics': {'viewCount': '475407418',\n",
       "    'commentCount': '0',\n",
       "    'subscriberCount': '2666959',\n",
       "    'hiddenSubscriberCount': False,\n",
       "    'videoCount': '25369'}},\n",
       "  {'kind': 'youtube#channel',\n",
       "   'etag': '\"8jEFfXBrqiSrcF6Ee7MQuz8XuAM/9ftwAVW8o4nUDReIaORPKCUNXSc\"',\n",
       "   'id': 'UC22Sr8bNYjAKqxLr-snMGnA',\n",
       "   'contentDetails': {'relatedPlaylists': {'favorites': 'FL22Sr8bNYjAKqxLr-snMGnA',\n",
       "     'uploads': 'UU22Sr8bNYjAKqxLr-snMGnA',\n",
       "     'watchHistory': 'HL',\n",
       "     'watchLater': 'WL'}},\n",
       "   'statistics': {'viewCount': '197582880',\n",
       "    'commentCount': '0',\n",
       "    'subscriberCount': '342260',\n",
       "    'hiddenSubscriberCount': False,\n",
       "    'videoCount': '4197'}},\n",
       "  {'kind': 'youtube#channel',\n",
       "   'etag': '\"8jEFfXBrqiSrcF6Ee7MQuz8XuAM/ZziiG_zqhhMofeL97-2DCb-y8s8\"',\n",
       "   'id': 'UC2MGuhIaOP6YLpUx106kTQw',\n",
       "   'contentDetails': {'relatedPlaylists': {'favorites': 'FL2MGuhIaOP6YLpUx106kTQw',\n",
       "     'uploads': 'UU2MGuhIaOP6YLpUx106kTQw',\n",
       "     'watchHistory': 'HL',\n",
       "     'watchLater': 'WL'}},\n",
       "   'statistics': {'viewCount': '33883494',\n",
       "    'commentCount': '0',\n",
       "    'subscriberCount': '154470',\n",
       "    'hiddenSubscriberCount': False,\n",
       "    'videoCount': '956'}},\n",
       "  {'kind': 'youtube#channel',\n",
       "   'etag': '\"8jEFfXBrqiSrcF6Ee7MQuz8XuAM/4VVEzynj6e11bTdiMR2e-H5-dFs\"',\n",
       "   'id': 'UCPahzXZvF8f5bRJ5TNvZS8w',\n",
       "   'contentDetails': {'relatedPlaylists': {'likes': 'LLPahzXZvF8f5bRJ5TNvZS8w',\n",
       "     'favorites': 'FLPahzXZvF8f5bRJ5TNvZS8w',\n",
       "     'uploads': 'UUPahzXZvF8f5bRJ5TNvZS8w',\n",
       "     'watchHistory': 'HL',\n",
       "     'watchLater': 'WL'}},\n",
       "   'statistics': {'viewCount': '308775496',\n",
       "    'commentCount': '0',\n",
       "    'subscriberCount': '421040',\n",
       "    'hiddenSubscriberCount': False,\n",
       "    'videoCount': '9069'}},\n",
       "  {'kind': 'youtube#channel',\n",
       "   'etag': '\"8jEFfXBrqiSrcF6Ee7MQuz8XuAM/xiEOyQpRw_XxKaiEdm6fck60cyA\"',\n",
       "   'id': 'UC0KT03NPnN-j4HGzetW9Lpw',\n",
       "   'contentDetails': {'relatedPlaylists': {'uploads': 'UU0KT03NPnN-j4HGzetW9Lpw',\n",
       "     'watchHistory': 'HL',\n",
       "     'watchLater': 'WL'}},\n",
       "   'statistics': {'viewCount': '68469186',\n",
       "    'commentCount': '0',\n",
       "    'subscriberCount': '1603804',\n",
       "    'hiddenSubscriberCount': False,\n",
       "    'videoCount': '476'}},\n",
       "  {'kind': 'youtube#channel',\n",
       "   'etag': '\"8jEFfXBrqiSrcF6Ee7MQuz8XuAM/4a7XFO63NUII0t0qUn73CXoYSkc\"',\n",
       "   'id': 'UCzrdtk6p4SaakMz2ZmOkCQQ',\n",
       "   'contentDetails': {'relatedPlaylists': {'favorites': 'FLzrdtk6p4SaakMz2ZmOkCQQ',\n",
       "     'uploads': 'UUzrdtk6p4SaakMz2ZmOkCQQ',\n",
       "     'watchHistory': 'HL',\n",
       "     'watchLater': 'WL'}},\n",
       "   'statistics': {'viewCount': '380018141',\n",
       "    'commentCount': '0',\n",
       "    'subscriberCount': '855255',\n",
       "    'hiddenSubscriberCount': False,\n",
       "    'videoCount': '23416'}},\n",
       "  {'kind': 'youtube#channel',\n",
       "   'etag': '\"8jEFfXBrqiSrcF6Ee7MQuz8XuAM/Ts_WpoPP5teAVhAjVNZIXwsiCSI\"',\n",
       "   'id': 'UCFPoJNd0d4k1H9A6UOlikcg',\n",
       "   'contentDetails': {'relatedPlaylists': {'uploads': 'UUFPoJNd0d4k1H9A6UOlikcg',\n",
       "     'watchHistory': 'HL',\n",
       "     'watchLater': 'WL'}},\n",
       "   'statistics': {'viewCount': '356264436',\n",
       "    'commentCount': '0',\n",
       "    'subscriberCount': '816851',\n",
       "    'hiddenSubscriberCount': False,\n",
       "    'videoCount': '2872'}},\n",
       "  {'kind': 'youtube#channel',\n",
       "   'etag': '\"8jEFfXBrqiSrcF6Ee7MQuz8XuAM/3l9oxOeGDTuXHuchR5wZ2A3_fws\"',\n",
       "   'id': 'UCRijo3ddMTht_IHyNSNXpNQ',\n",
       "   'contentDetails': {'relatedPlaylists': {'likes': 'LLRijo3ddMTht_IHyNSNXpNQ',\n",
       "     'favorites': 'FLRijo3ddMTht_IHyNSNXpNQ',\n",
       "     'uploads': 'UURijo3ddMTht_IHyNSNXpNQ',\n",
       "     'watchHistory': 'HL',\n",
       "     'watchLater': 'WL'}},\n",
       "   'statistics': {'viewCount': '8836406034',\n",
       "    'commentCount': '0',\n",
       "    'subscriberCount': '45746474',\n",
       "    'hiddenSubscriberCount': False,\n",
       "    'videoCount': '213'}}]}"
      ]
     },
     "execution_count": 32,
     "metadata": {},
     "output_type": "execute_result"
    }
   ],
   "source": [
    "res"
   ]
  },
  {
   "cell_type": "code",
   "execution_count": 33,
   "metadata": {},
   "outputs": [
    {
     "name": "stdout",
     "output_type": "stream",
     "text": [
      "kind\n",
      "etag\n",
      "nextPageToken\n",
      "pageInfo\n",
      "items\n"
     ]
    }
   ],
   "source": [
    "for key in res.keys():\n",
    "    print(key)"
   ]
  },
  {
   "cell_type": "code",
   "execution_count": 38,
   "metadata": {},
   "outputs": [],
   "source": [
    "channels_info = res.get('items')"
   ]
  },
  {
   "cell_type": "code",
   "execution_count": 39,
   "metadata": {},
   "outputs": [
    {
     "name": "stdout",
     "output_type": "stream",
     "text": [
      "UCLXzq85ijg2LwJWFrz4pkmw\n",
      "UCoyaxd5LQSuP4ChkxK0pnZQ\n",
      "UCVXCo0W9pk2dDkEBNLhTt7A\n",
      "UCZFhj_r-MjoPCFVUo3E1ZRg\n",
      "UCifWD4FBa4eaKK7HLF0PlTA\n",
      "UCqZQlzSHbVJrwrn5XvzrzcA\n",
      "UCNAf1k0yIjyGu3k9BwAg3lg\n",
      "UC4i_9WvfPRTuRWEaWyfKuFw\n",
      "UCEl0qh9X3kuL1RdFHng497Q\n",
      "UCwNqHDsnBCKT-olwJwIFyfg\n",
      "UCPpddbTbOr_uWWQT9Pw1rbA\n",
      "UCWLo4r-9_x4GCJCFShNFq0A\n",
      "UC22Sr8bNYjAKqxLr-snMGnA\n",
      "UC2MGuhIaOP6YLpUx106kTQw\n",
      "UCPahzXZvF8f5bRJ5TNvZS8w\n",
      "UC0KT03NPnN-j4HGzetW9Lpw\n",
      "UCzrdtk6p4SaakMz2ZmOkCQQ\n",
      "UCFPoJNd0d4k1H9A6UOlikcg\n",
      "UCRijo3ddMTht_IHyNSNXpNQ\n"
     ]
    }
   ],
   "source": [
    "for channel in channels_info:\n",
    "    print(channel['id'])"
   ]
  },
  {
   "cell_type": "code",
   "execution_count": 41,
   "metadata": {},
   "outputs": [
    {
     "name": "stdout",
     "output_type": "stream",
     "text": [
      "ViewCount:  893308902\n",
      "ViewCount:  699900009\n",
      "ViewCount:  792775665\n",
      "ViewCount:  602310351\n",
      "ViewCount:  165226225\n",
      "ViewCount:  291790795\n",
      "ViewCount:  389318598\n",
      "ViewCount:  830369166\n",
      "ViewCount:  0\n",
      "ViewCount:  448082943\n",
      "ViewCount:  236841065\n",
      "ViewCount:  475407418\n",
      "ViewCount:  197582880\n",
      "ViewCount:  33883494\n",
      "ViewCount:  308775496\n",
      "ViewCount:  68469186\n",
      "ViewCount:  380018141\n",
      "ViewCount:  356264436\n",
      "ViewCount:  8836406034\n"
     ]
    }
   ],
   "source": [
    "for channel in channels_info:\n",
    "    print('ViewCount: ', channel['statistics']['viewCount'])"
   ]
  },
  {
   "cell_type": "code",
   "execution_count": 43,
   "metadata": {},
   "outputs": [
    {
     "name": "stdout",
     "output_type": "stream",
     "text": [
      "subscriberCount:  1382285\n",
      "subscriberCount:  3845206\n",
      "subscriberCount:  3746622\n",
      "subscriberCount:  1649116\n",
      "subscriberCount:  339151\n",
      "subscriberCount:  904148\n",
      "subscriberCount:  1382906\n",
      "subscriberCount:  2298440\n",
      "subscriberCount:  146404\n",
      "subscriberCount:  652942\n",
      "subscriberCount:  682349\n",
      "subscriberCount:  2666959\n",
      "subscriberCount:  342260\n",
      "subscriberCount:  154470\n",
      "subscriberCount:  421040\n",
      "subscriberCount:  1603804\n",
      "subscriberCount:  855255\n",
      "subscriberCount:  816851\n",
      "subscriberCount:  45746474\n"
     ]
    }
   ],
   "source": [
    "for channel in channels_info:\n",
    "    print('subscriberCount: ', channel['statistics']['subscriberCount'])"
   ]
  },
  {
   "cell_type": "code",
   "execution_count": 44,
   "metadata": {},
   "outputs": [
    {
     "name": "stdout",
     "output_type": "stream",
     "text": [
      "videoCount:  3151\n",
      "videoCount:  756\n",
      "videoCount:  10554\n",
      "videoCount:  1102\n",
      "videoCount:  3090\n",
      "videoCount:  7294\n",
      "videoCount:  1551\n",
      "videoCount:  4296\n",
      "videoCount:  0\n",
      "videoCount:  4433\n",
      "videoCount:  2604\n",
      "videoCount:  25369\n",
      "videoCount:  4197\n",
      "videoCount:  956\n",
      "videoCount:  9069\n",
      "videoCount:  476\n",
      "videoCount:  23416\n",
      "videoCount:  2872\n",
      "videoCount:  213\n"
     ]
    }
   ],
   "source": [
    "for channel in channels_info:\n",
    "    print('videoCount: ', channel['statistics']['videoCount'])"
   ]
  },
  {
   "cell_type": "code",
   "execution_count": 62,
   "metadata": {},
   "outputs": [
    {
     "name": "stdout",
     "output_type": "stream",
     "text": [
      "uploads_playlist:  UULXzq85ijg2LwJWFrz4pkmw\n",
      "uploads_playlist:  UUoyaxd5LQSuP4ChkxK0pnZQ\n",
      "uploads_playlist:  UUVXCo0W9pk2dDkEBNLhTt7A\n",
      "uploads_playlist:  UUZFhj_r-MjoPCFVUo3E1ZRg\n",
      "uploads_playlist:  UUifWD4FBa4eaKK7HLF0PlTA\n",
      "uploads_playlist:  UUqZQlzSHbVJrwrn5XvzrzcA\n",
      "uploads_playlist:  UUNAf1k0yIjyGu3k9BwAg3lg\n",
      "uploads_playlist:  UU4i_9WvfPRTuRWEaWyfKuFw\n",
      "uploads_playlist:  UUEl0qh9X3kuL1RdFHng497Q\n",
      "uploads_playlist:  UUwNqHDsnBCKT-olwJwIFyfg\n",
      "uploads_playlist:  UUPpddbTbOr_uWWQT9Pw1rbA\n",
      "uploads_playlist:  UUWLo4r-9_x4GCJCFShNFq0A\n",
      "uploads_playlist:  UU22Sr8bNYjAKqxLr-snMGnA\n",
      "uploads_playlist:  UU2MGuhIaOP6YLpUx106kTQw\n",
      "uploads_playlist:  UUPahzXZvF8f5bRJ5TNvZS8w\n",
      "uploads_playlist:  UU0KT03NPnN-j4HGzetW9Lpw\n",
      "uploads_playlist:  UUzrdtk6p4SaakMz2ZmOkCQQ\n",
      "uploads_playlist:  UUFPoJNd0d4k1H9A6UOlikcg\n",
      "uploads_playlist:  UURijo3ddMTht_IHyNSNXpNQ\n"
     ]
    }
   ],
   "source": [
    "for playlist in channels_info:\n",
    "    print('uploads_playlist: ', playlist['contentDetails']['relatedPlaylists']['uploads'])"
   ]
  },
  {
   "cell_type": "code",
   "execution_count": 53,
   "metadata": {},
   "outputs": [
    {
     "data": {
      "text/plain": [
       "list"
      ]
     },
     "execution_count": 53,
     "metadata": {},
     "output_type": "execute_result"
    }
   ],
   "source": [
    "type(channels_info)"
   ]
  },
  {
   "cell_type": "code",
   "execution_count": 55,
   "metadata": {},
   "outputs": [
    {
     "data": {
      "text/plain": [
       "dict"
      ]
     },
     "execution_count": 55,
     "metadata": {},
     "output_type": "execute_result"
    }
   ],
   "source": [
    "type(channels_info[0])"
   ]
  },
  {
   "cell_type": "code",
   "execution_count": 61,
   "metadata": {},
   "outputs": [
    {
     "data": {
      "text/plain": [
       "'UULXzq85ijg2LwJWFrz4pkmw'"
      ]
     },
     "execution_count": 61,
     "metadata": {},
     "output_type": "execute_result"
    }
   ],
   "source": [
    "channels_info[0]['contentDetails']['relatedPlaylists']['uploads']"
   ]
  },
  {
   "cell_type": "code",
   "execution_count": null,
   "metadata": {},
   "outputs": [],
   "source": []
  },
  {
   "cell_type": "code",
   "execution_count": 76,
   "metadata": {},
   "outputs": [],
   "source": [
    "req = youtube.playlistItems().list(\n",
    "        playlistId=\"UUoyaxd5LQSuP4ChkxK0pnZQ\",\n",
    "        part=\"snippet\",\n",
    "        maxResults=50\n",
    "      ) "
   ]
  },
  {
   "cell_type": "code",
   "execution_count": 77,
   "metadata": {},
   "outputs": [],
   "source": [
    "res = req.execute()"
   ]
  },
  {
   "cell_type": "code",
   "execution_count": 78,
   "metadata": {},
   "outputs": [
    {
     "name": "stdout",
     "output_type": "stream",
     "text": [
      "kind\n",
      "etag\n",
      "nextPageToken\n",
      "pageInfo\n",
      "items\n"
     ]
    }
   ],
   "source": [
    "for key in res.keys():\n",
    "    print(key)"
   ]
  },
  {
   "cell_type": "code",
   "execution_count": 79,
   "metadata": {},
   "outputs": [],
   "source": [
    "videos_info = res.get('items')"
   ]
  },
  {
   "cell_type": "code",
   "execution_count": 80,
   "metadata": {},
   "outputs": [
    {
     "name": "stdout",
     "output_type": "stream",
     "text": [
      "video id:  FIFA 20 Player Ratings | The Bunker ft. Sterling, Kaká, João Félix\n",
      "video id:  FIFA 20 | Zinedine Zidane FUT ICONS Stories Reveal\n",
      "video id:  FIFA 20 | The Definitive Bundesliga Experience\n",
      "video id:  FIFA 20 | Official VOLTA Gameplay Trailer\n",
      "video id:  FIFA 20 | Official Gameplay Trailer\n",
      "video id:  FIFA 19 Global Series PlayStation 4 Playoffs - Day 3\n",
      "video id:  FIFA 19 Global Series PlayStation 4 Playoffs - Day 2\n",
      "video id:  FIFA 19 Global Series PlayStation 4 Playoffs - Day 1\n",
      "video id:  FIFA 19 Global Series Xbox One Playoffs - Day 3\n",
      "video id:  FIFA 19 Global Series Xbox One Playoffs - Day 2\n",
      "video id:  FIFA 19 Global Series Xbox One Playoffs - Day 1\n",
      "video id:  FIFA 20 | Official Reveal Trailer ft. VOLTA Football\n",
      "video id:  FIFA 20 Live Reveal – EA PLAY 2019\n",
      "video id:  eChampions League Finals\n",
      "video id:  FIFA 19 - eChampions League - Group Stage - Day 2\n",
      "video id:  FIFA 19 - eChampions League - Group Stage - Day 1\n",
      "video id:  FIFA 19 - FUT Champions Cup April - Day 1 - Xbox Swiss Rounds.\n",
      "video id:  FIFA 19 - FUT Champions Cup April - Final Day\n",
      "video id:  FIFA 19 - FUT Champions Cup April - Day 2\n",
      "video id:  FIFA 19 - FUT Champions Cup April - Day 1 - Xbox Group Stage\n",
      "video id:  FIFA 19 - FUT Champions Cup January - Day 3\n",
      "video id:  FIFA 19 - FUT Champions Cup January - Day 2\n",
      "video id:  FIFA 19 - FUT Champions Cup January - Swiss Group Stage\n",
      "video id:  FIFA 19 | Goals of the Year\n",
      "video id:  FIFA 19 World Tour | Neymar Jr vs DJ Snake\n",
      "video id:  FIFA 19 Ultimate Team | Team Of The Year\n",
      "video id:  FIFA 19 | Gfinity FUT Champions Cup December | Final Day\n",
      "video id:  FIFA 19 | Gfinity FUT Champions Cup December | PlayStation Knockout Stage\n",
      "video id:  FIFA 19 | Gfinity FUT Champions Cup December | Xbox Knockout Stage\n",
      "video id:  FIFA 19 World Tour | Martin Garrix x Maluma\n",
      "video id:  FIFA 19 | EA SPORTS x adidas Limited Edition Jerseys Reveal\n",
      "video id:  FIFA 19 | FUT Champions Cup November | Console Finals\n",
      "video id:  FIFA 19 | FUT Champions Cup November | Round of 16 & Quarterfinals\n",
      "video id:  FIFA 19 | FUT Champions Cup November | Round 5\n",
      "video id:  FIFA 19 World Tour | Odell Beckham Jr. x A$AP Rocky\n",
      "video id:  FIFA 19 World Tour | Lingard & Rashford vs Stormzy & Dapaah\n",
      "video id:  FIFA Mobile New Season: Official Launch Trailer\n",
      "video id:  FIFA 19 | Goals of the Month | Round 1\n",
      "video id:  This is FIFA 19 | The Ultimate Football Experience\n",
      "video id:  FIFA 19 | Champions Rise | Official Launch Trailer\n",
      "video id:  FIFA 19 Demo Trailer | Your Season Starts Now\n",
      "video id:  FIFA 19 Player Ratings | Join The Debate\n",
      "video id:  FIFA 19 | The Journey: Champions | Official Story Trailer ft. Hunter, Neymar, De Bruyne\n",
      "video id:  FIFA 18 | FIFA eWorld Cup Grand Final | MSdossary vs StefanoPinna\n",
      "video id:  FUT 19 | Feature Reveal feat. Division Rivals & New ICONS\n",
      "video id:  FIFA 18 | FIFA eWorld Cup Grand Final - Semifinals & FUT 19 Reveal!\n",
      "video id:  FIFA 18 | FIFA eWorld Cup Grand Final - Day 2\n",
      "video id:  FIFA 18 | FIFA eWorld Cup Grand Final - Day 1\n",
      "video id:  FIFA 19 | Official Reveal Trailer with UEFA Champions League\n",
      "video id:  Qualification Day | FIFA 18 Global Series Xbox One Playoff\n"
     ]
    }
   ],
   "source": [
    "for video in videos_info:\n",
    "#     print('video id: ', video['id'])\n",
    "    print('video id: ', video['snippet']['title'])"
   ]
  },
  {
   "cell_type": "code",
   "execution_count": 81,
   "metadata": {},
   "outputs": [
    {
     "name": "stdout",
     "output_type": "stream",
     "text": [
      "video id:  VVVveWF4ZDVMUVN1UDRDaGt4SzBwblpRLjJUM0JtdldJSHk0\n",
      "video id:  VVVveWF4ZDVMUVN1UDRDaGt4SzBwblpRLk00dEV5bHNxZHlv\n",
      "video id:  VVVveWF4ZDVMUVN1UDRDaGt4SzBwblpRLm51eEtFR0d4UktJ\n",
      "video id:  VVVveWF4ZDVMUVN1UDRDaGt4SzBwblpRLnpPc0EzbWMxeEd3\n",
      "video id:  VVVveWF4ZDVMUVN1UDRDaGt4SzBwblpRLnZnUU5PSWhSc1Y0\n",
      "video id:  VVVveWF4ZDVMUVN1UDRDaGt4SzBwblpRLkxnLTlCdGNGMjFB\n",
      "video id:  VVVveWF4ZDVMUVN1UDRDaGt4SzBwblpRLjZaWE05UU1WNy1N\n",
      "video id:  VVVveWF4ZDVMUVN1UDRDaGt4SzBwblpRLkRQemI4eVFyYTBz\n",
      "video id:  VVVveWF4ZDVMUVN1UDRDaGt4SzBwblpRLllxNGJCSnhYSlBz\n",
      "video id:  VVVveWF4ZDVMUVN1UDRDaGt4SzBwblpRLkJWdHVMTnJ4Qzg0\n",
      "video id:  VVVveWF4ZDVMUVN1UDRDaGt4SzBwblpRLk4wZ0RtLTV2Z0Vz\n",
      "video id:  VVVveWF4ZDVMUVN1UDRDaGt4SzBwblpRLjlFNEhNZ2g3WnNF\n",
      "video id:  VVVveWF4ZDVMUVN1UDRDaGt4SzBwblpRLkZWUnhhUXJqMVU0\n",
      "video id:  VVVveWF4ZDVMUVN1UDRDaGt4SzBwblpRLk8xWmVEXzRkX3o0\n",
      "video id:  VVVveWF4ZDVMUVN1UDRDaGt4SzBwblpRLktNWWhoZWFsSWc0\n",
      "video id:  VVVveWF4ZDVMUVN1UDRDaGt4SzBwblpRLlcybVhMZ1pCMUx3\n",
      "video id:  VVVveWF4ZDVMUVN1UDRDaGt4SzBwblpRLi11UWI1YUhnZGRN\n",
      "video id:  VVVveWF4ZDVMUVN1UDRDaGt4SzBwblpRLkpWcnZaZ2F0ZUR3\n",
      "video id:  VVVveWF4ZDVMUVN1UDRDaGt4SzBwblpRLjBXYUlwTkRKcjR3\n",
      "video id:  VVVveWF4ZDVMUVN1UDRDaGt4SzBwblpRLmVjNWpiRHJDUDNv\n",
      "video id:  VVVveWF4ZDVMUVN1UDRDaGt4SzBwblpRLlR0a1NIeW5yLVkw\n",
      "video id:  VVVveWF4ZDVMUVN1UDRDaGt4SzBwblpRLnpxc2lEbi1LRXA0\n",
      "video id:  VVVveWF4ZDVMUVN1UDRDaGt4SzBwblpRLm93UlBWSkFodjM4\n",
      "video id:  VVVveWF4ZDVMUVN1UDRDaGt4SzBwblpRLmNxcXZQZFZfd3Y0\n",
      "video id:  VVVveWF4ZDVMUVN1UDRDaGt4SzBwblpRLjU5aWRVM3hqRW1j\n",
      "video id:  VVVveWF4ZDVMUVN1UDRDaGt4SzBwblpRLmhEQkNhdDU0STRN\n",
      "video id:  VVVveWF4ZDVMUVN1UDRDaGt4SzBwblpRLnlQRXNnR0dNM1VB\n",
      "video id:  VVVveWF4ZDVMUVN1UDRDaGt4SzBwblpRLm9tTzdSanNtcm1N\n",
      "video id:  VVVveWF4ZDVMUVN1UDRDaGt4SzBwblpRLnJ1VG1xbWtDYlpV\n",
      "video id:  VVVveWF4ZDVMUVN1UDRDaGt4SzBwblpRLjhsZ1NDVkJDOUc0\n",
      "video id:  VVVveWF4ZDVMUVN1UDRDaGt4SzBwblpRLlllV1ItYVVxMktn\n",
      "video id:  VVVveWF4ZDVMUVN1UDRDaGt4SzBwblpRLjJIS3h4NmtJS1VR\n",
      "video id:  VVVveWF4ZDVMUVN1UDRDaGt4SzBwblpRLmk1MG1hRXlra0Rr\n",
      "video id:  VVVveWF4ZDVMUVN1UDRDaGt4SzBwblpRLjMtTlRRa1FQSGxj\n",
      "video id:  VVVveWF4ZDVMUVN1UDRDaGt4SzBwblpRLmxiWUNFMGJxejl3\n",
      "video id:  VVVveWF4ZDVMUVN1UDRDaGt4SzBwblpRLnk3cW95XzAybE9r\n",
      "video id:  VVVveWF4ZDVMUVN1UDRDaGt4SzBwblpRLjFIMXRvUUZhWnd3\n",
      "video id:  VVVveWF4ZDVMUVN1UDRDaGt4SzBwblpRLk81WThnY0JpbGY4\n",
      "video id:  VVVveWF4ZDVMUVN1UDRDaGt4SzBwblpRLjBlY0pndWZhOVBR\n",
      "video id:  VVVveWF4ZDVMUVN1UDRDaGt4SzBwblpRLk91bVp4VGRNcV9j\n",
      "video id:  VVVveWF4ZDVMUVN1UDRDaGt4SzBwblpRLnFUejhaaE5yRURB\n",
      "video id:  VVVveWF4ZDVMUVN1UDRDaGt4SzBwblpRLmJIZzV3NE1KRjk4\n",
      "video id:  VVVveWF4ZDVMUVN1UDRDaGt4SzBwblpRLmxycjNCbnNVMVFz\n",
      "video id:  VVVveWF4ZDVMUVN1UDRDaGt4SzBwblpRLjEyTldIellWLVhF\n",
      "video id:  VVVveWF4ZDVMUVN1UDRDaGt4SzBwblpRLk1kQndFU3lfTjFR\n",
      "video id:  VVVveWF4ZDVMUVN1UDRDaGt4SzBwblpRLkZDSmFNQjRmVENr\n",
      "video id:  VVVveWF4ZDVMUVN1UDRDaGt4SzBwblpRLmo1akhmTUpfblFF\n",
      "video id:  VVVveWF4ZDVMUVN1UDRDaGt4SzBwblpRLjk2cEZaWHRBWWRN\n",
      "video id:  VVVveWF4ZDVMUVN1UDRDaGt4SzBwblpRLnpYMEFWNnl4eXJR\n",
      "video id:  VVVveWF4ZDVMUVN1UDRDaGt4SzBwblpRLncyaVpFYnA1QTQ0\n"
     ]
    }
   ],
   "source": [
    "for video in videos_info:\n",
    "    print('video id: ', video['id'])\n",
    "#     print('video id: ', video['snippet']['title'])"
   ]
  },
  {
   "cell_type": "code",
   "execution_count": null,
   "metadata": {},
   "outputs": [],
   "source": []
  },
  {
   "cell_type": "code",
   "execution_count": null,
   "metadata": {},
   "outputs": [],
   "source": []
  },
  {
   "cell_type": "code",
   "execution_count": null,
   "metadata": {},
   "outputs": [],
   "source": []
  },
  {
   "cell_type": "code",
   "execution_count": null,
   "metadata": {},
   "outputs": [],
   "source": []
  },
  {
   "cell_type": "code",
   "execution_count": null,
   "metadata": {},
   "outputs": [],
   "source": []
  },
  {
   "cell_type": "code",
   "execution_count": null,
   "metadata": {},
   "outputs": [],
   "source": []
  },
  {
   "cell_type": "code",
   "execution_count": null,
   "metadata": {},
   "outputs": [],
   "source": []
  },
  {
   "cell_type": "code",
   "execution_count": null,
   "metadata": {},
   "outputs": [],
   "source": []
  },
  {
   "cell_type": "code",
   "execution_count": null,
   "metadata": {},
   "outputs": [],
   "source": []
  },
  {
   "cell_type": "code",
   "execution_count": null,
   "metadata": {},
   "outputs": [],
   "source": []
  },
  {
   "cell_type": "code",
   "execution_count": null,
   "metadata": {},
   "outputs": [],
   "source": []
  },
  {
   "cell_type": "code",
   "execution_count": null,
   "metadata": {},
   "outputs": [],
   "source": []
  },
  {
   "cell_type": "code",
   "execution_count": null,
   "metadata": {},
   "outputs": [],
   "source": []
  },
  {
   "cell_type": "code",
   "execution_count": null,
   "metadata": {},
   "outputs": [],
   "source": []
  },
  {
   "cell_type": "code",
   "execution_count": null,
   "metadata": {},
   "outputs": [],
   "source": []
  },
  {
   "cell_type": "code",
   "execution_count": null,
   "metadata": {},
   "outputs": [],
   "source": []
  },
  {
   "cell_type": "code",
   "execution_count": null,
   "metadata": {},
   "outputs": [],
   "source": []
  },
  {
   "cell_type": "code",
   "execution_count": null,
   "metadata": {},
   "outputs": [],
   "source": []
  },
  {
   "cell_type": "code",
   "execution_count": null,
   "metadata": {},
   "outputs": [],
   "source": []
  },
  {
   "cell_type": "code",
   "execution_count": null,
   "metadata": {},
   "outputs": [],
   "source": []
  },
  {
   "cell_type": "code",
   "execution_count": null,
   "metadata": {},
   "outputs": [],
   "source": []
  },
  {
   "cell_type": "code",
   "execution_count": null,
   "metadata": {},
   "outputs": [],
   "source": []
  },
  {
   "cell_type": "code",
   "execution_count": null,
   "metadata": {},
   "outputs": [],
   "source": []
  },
  {
   "cell_type": "code",
   "execution_count": null,
   "metadata": {},
   "outputs": [],
   "source": []
  },
  {
   "cell_type": "code",
   "execution_count": null,
   "metadata": {},
   "outputs": [],
   "source": []
  },
  {
   "cell_type": "code",
   "execution_count": null,
   "metadata": {},
   "outputs": [],
   "source": []
  },
  {
   "cell_type": "code",
   "execution_count": null,
   "metadata": {},
   "outputs": [],
   "source": []
  },
  {
   "cell_type": "code",
   "execution_count": null,
   "metadata": {},
   "outputs": [],
   "source": []
  },
  {
   "cell_type": "code",
   "execution_count": null,
   "metadata": {},
   "outputs": [],
   "source": []
  },
  {
   "cell_type": "code",
   "execution_count": null,
   "metadata": {},
   "outputs": [],
   "source": []
  },
  {
   "cell_type": "code",
   "execution_count": null,
   "metadata": {},
   "outputs": [],
   "source": []
  },
  {
   "cell_type": "code",
   "execution_count": null,
   "metadata": {},
   "outputs": [],
   "source": []
  },
  {
   "cell_type": "code",
   "execution_count": null,
   "metadata": {},
   "outputs": [],
   "source": []
  },
  {
   "cell_type": "code",
   "execution_count": null,
   "metadata": {},
   "outputs": [],
   "source": []
  },
  {
   "cell_type": "code",
   "execution_count": null,
   "metadata": {},
   "outputs": [],
   "source": []
  },
  {
   "cell_type": "code",
   "execution_count": null,
   "metadata": {},
   "outputs": [],
   "source": []
  },
  {
   "cell_type": "code",
   "execution_count": null,
   "metadata": {},
   "outputs": [],
   "source": []
  },
  {
   "cell_type": "code",
   "execution_count": null,
   "metadata": {},
   "outputs": [],
   "source": []
  },
  {
   "cell_type": "code",
   "execution_count": null,
   "metadata": {},
   "outputs": [],
   "source": []
  },
  {
   "cell_type": "code",
   "execution_count": null,
   "metadata": {},
   "outputs": [],
   "source": []
  },
  {
   "cell_type": "code",
   "execution_count": null,
   "metadata": {},
   "outputs": [],
   "source": []
  },
  {
   "cell_type": "code",
   "execution_count": null,
   "metadata": {},
   "outputs": [],
   "source": []
  },
  {
   "cell_type": "code",
   "execution_count": null,
   "metadata": {},
   "outputs": [],
   "source": []
  }
 ],
 "metadata": {
  "kernelspec": {
   "display_name": "Python 3",
   "language": "python",
   "name": "python3"
  },
  "language_info": {
   "codemirror_mode": {
    "name": "ipython",
    "version": 3
   },
   "file_extension": ".py",
   "mimetype": "text/x-python",
   "name": "python",
   "nbconvert_exporter": "python",
   "pygments_lexer": "ipython3",
   "version": "3.7.3"
  }
 },
 "nbformat": 4,
 "nbformat_minor": 2
}
